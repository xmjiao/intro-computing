{
 "cells": [
  {
   "cell_type": "markdown",
   "metadata": {},
   "source": [
    "# Classes"
   ]
  },
  {
   "cell_type": "markdown",
   "metadata": {},
   "source": [
    "Classes are the fundamental concept for object oriented programming.  A class defines a data type with both data and functions that can operate on the data.  An object is an instance of a class.  Each object will have its own namespace (separate from other instances of the class and other functions, etc. in your program)."
   ]
  },
  {
   "cell_type": "markdown",
   "metadata": {},
   "source": [
    "Simplest example: just a container (like a struct in C)"
   ]
  },
  {
   "cell_type": "code",
   "execution_count": 1,
   "metadata": {
    "collapsed": false
   },
   "outputs": [
    {
     "name": "stdout",
     "output_type": "stream",
     "text": [
      "1 2 3\n",
      "1 2\n"
     ]
    }
   ],
   "source": [
    "class Container:\n",
    "    pass\n",
    "        \n",
    "a = Container()\n",
    "a.x = 1\n",
    "a.y = 2\n",
    "a.z = 3\n",
    "\n",
    "b = Container()\n",
    "b.xyz = 1\n",
    "b.uvw = 2\n",
    "\n",
    "print(a.x, a.y, a.z)\n",
    "print(b.xyz, b.uvw)"
   ]
  },
  {
   "cell_type": "markdown",
   "metadata": {},
   "source": [
    "Notice that you don't have to declare what variables are members of the class ahead of time (although, usually that's good practice)."
   ]
  },
  {
   "cell_type": "markdown",
   "metadata": {},
   "source": [
    "## Playing Cards"
   ]
  },
  {
   "cell_type": "markdown",
   "metadata": {},
   "source": [
    "Here's a simple class that represents a playing card.  Notice that we are using unicode to represent the suits.\n",
    "\n",
    "Unicode support in python is also one of the major differences between python 2 and 3.  In python 3, every string is unicode."
   ]
  },
  {
   "cell_type": "code",
   "execution_count": 2,
   "metadata": {
    "collapsed": false
   },
   "outputs": [],
   "source": [
    "class Card:\n",
    "    \n",
    "    def __init__(self, suit=1, rank=2):\n",
    "        if suit < 1 or suit > 4:\n",
    "            print(\"invalid suit, setting to 1\")\n",
    "            \n",
    "        self.suit = suit\n",
    "        self.rank = rank\n",
    "        \n",
    "\n",
    "\n",
    "    def value(self):\n",
    "        \"\"\" we want things order primarily by rank then suit \"\"\"\n",
    "        return self.suit + (self.rank-1)*14\n",
    "\n",
    "    \n",
    "    # we include this to allow for comparisons with < and > between cards \n",
    "    def __lt__(self, other):\n",
    "        return self.value() < other.value()\n",
    "    \n",
    "\n",
    "    def __unicode__(self):\n",
    "        suits = [u\"\\u2660\",  # spade\n",
    "                 u\"\\u2665\",  # heart\n",
    "                 u\"\\u2666\",  # diamond\n",
    "                 u\"\\u2663\"]  # club\n",
    "        \n",
    "        r = str(self.rank)\n",
    "        if self.rank == 11:\n",
    "            r = \"J\"\n",
    "        elif self.rank == 12:\n",
    "            r = \"Q\"\n",
    "        elif self.rank == 13:\n",
    "            r = \"K\"\n",
    "        elif self.rank == 14:\n",
    "            r = \"A\"\n",
    "                \n",
    "        return r +':'+suits[self.suit-1]\n",
    "    \n",
    "    def __str__(self):\n",
    "        return self.__unicode__()  #.encode('utf-8')\n",
    "        "
   ]
  },
  {
   "cell_type": "markdown",
   "metadata": {},
   "source": [
    "We can create a card easily:"
   ]
  },
  {
   "cell_type": "code",
   "execution_count": 3,
   "metadata": {
    "collapsed": false
   },
   "outputs": [],
   "source": [
    "c1 = Card()\n",
    "c2 = Card(suit=1, rank=13)"
   ]
  },
  {
   "cell_type": "code",
   "execution_count": 4,
   "metadata": {
    "collapsed": false
   },
   "outputs": [
    {
     "name": "stdout",
     "output_type": "stream",
     "text": [
      "invalid suit, setting to 1\n"
     ]
    }
   ],
   "source": [
    "c3 = Card(suit=0, rank=4)"
   ]
  },
  {
   "cell_type": "markdown",
   "metadata": {},
   "source": [
    "The `__str__` method converts the object into a string that can be printed.  The `__unicode__` method is actually for python 2."
   ]
  },
  {
   "cell_type": "code",
   "execution_count": 5,
   "metadata": {
    "collapsed": false
   },
   "outputs": [
    {
     "name": "stdout",
     "output_type": "stream",
     "text": [
      "2:♠\n",
      "K:♠\n"
     ]
    }
   ],
   "source": [
    "print(c1)\n",
    "print(c2)"
   ]
  },
  {
   "cell_type": "markdown",
   "metadata": {},
   "source": [
    "The value method assigns a value to the object that can be used in comparisons, and the `__lt__` method is what does the actual comparing."
   ]
  },
  {
   "cell_type": "code",
   "execution_count": 6,
   "metadata": {
    "collapsed": false
   },
   "outputs": [
    {
     "name": "stdout",
     "output_type": "stream",
     "text": [
      "False\n",
      "True\n"
     ]
    }
   ],
   "source": [
    "print(c1 > c2)\n",
    "print(c1 < c2)"
   ]
  },
  {
   "cell_type": "markdown",
   "metadata": {},
   "source": [
    "Classes can use other include other classes as data objects -- here's a deck of cards.  Note that we are using the python random module here."
   ]
  },
  {
   "cell_type": "code",
   "execution_count": 7,
   "metadata": {
    "collapsed": false
   },
   "outputs": [],
   "source": [
    "import random\n",
    "\n",
    "class Deck:\n",
    "    \"\"\" the deck is a collection of cards \"\"\"\n",
    "\n",
    "    def __init__(self):\n",
    "\n",
    "        self.nsuits = 4\n",
    "        self.nranks = 13\n",
    "        self.minrank = 2\n",
    "        self.maxrank = self.minrank + self.nranks - 1\n",
    "\n",
    "        self.cards = []\n",
    "\n",
    "        for rank in range(self.minrank,self.maxrank+1):\n",
    "            for suit in range(1, self.nsuits+1):\n",
    "                current_card = Card(rank=rank, suit=suit)\n",
    "                self.cards.append(current_card)\n",
    "\n",
    "\n",
    "    def shuffle(self):\n",
    "        random.shuffle(self.cards)\n",
    "\n",
    "\n",
    "    def get_cards(self, num=1):\n",
    "        hand = []\n",
    "\n",
    "        for n in range(num):\n",
    "            hand.append(self.cards.pop())\n",
    "\n",
    "        return hand\n",
    "\n",
    "    \n",
    "    def __str__(self):\n",
    "        string = \"\"\n",
    "        for c in self.cards:\n",
    "            string += str(c) + \" \"\n",
    "        return string"
   ]
  },
  {
   "cell_type": "markdown",
   "metadata": {},
   "source": [
    "Let's create a deck, shuffle, and deal a hand (for a poker game)."
   ]
  },
  {
   "cell_type": "code",
   "execution_count": 8,
   "metadata": {
    "collapsed": false
   },
   "outputs": [
    {
     "name": "stdout",
     "output_type": "stream",
     "text": [
      "2:♠ 2:♥ 2:♦ 2:♣ 3:♠ 3:♥ 3:♦ 3:♣ 4:♠ 4:♥ 4:♦ 4:♣ 5:♠ 5:♥ 5:♦ 5:♣ 6:♠ 6:♥ 6:♦ 6:♣ 7:♠ 7:♥ 7:♦ 7:♣ 8:♠ 8:♥ 8:♦ 8:♣ 9:♠ 9:♥ 9:♦ 9:♣ 10:♠ 10:♥ 10:♦ 10:♣ J:♠ J:♥ J:♦ J:♣ Q:♠ Q:♥ Q:♦ Q:♣ K:♠ K:♥ K:♦ K:♣ A:♠ A:♥ A:♦ A:♣ \n",
      "52\n"
     ]
    }
   ],
   "source": [
    "mydeck = Deck()\n",
    "print(mydeck)\n",
    "print(len(mydeck.cards))"
   ]
  },
  {
   "cell_type": "markdown",
   "metadata": {},
   "source": [
    "Notice that there is no error handling in this class.  The get_cards() will deal cards from the deck, removing them in the process.  Eventually we'll run out of cards."
   ]
  },
  {
   "cell_type": "code",
   "execution_count": 9,
   "metadata": {
    "collapsed": false
   },
   "outputs": [
    {
     "name": "stdout",
     "output_type": "stream",
     "text": [
      "5:♥\n",
      "6:♣\n",
      "8:♥\n",
      "9:♠\n",
      "A:♠\n"
     ]
    }
   ],
   "source": [
    "mydeck.shuffle()\n",
    "\n",
    "hand = mydeck.get_cards(5)\n",
    "for c in sorted(hand): print(c)"
   ]
  },
  {
   "cell_type": "markdown",
   "metadata": {},
   "source": [
    "## Projectiles"
   ]
  },
  {
   "cell_type": "markdown",
   "metadata": {},
   "source": [
    "Here we have a class that represents a projectile.  It has member functions for finding the distance and height of the projectile."
   ]
  },
  {
   "cell_type": "code",
   "execution_count": 10,
   "metadata": {
    "collapsed": false
   },
   "outputs": [],
   "source": [
    "import math\n",
    "\n",
    "class Projectile:\n",
    "\n",
    "    # this is called every time a new object is created\n",
    "    def __init__ (self, v=1.0, theta=45, grav=9.81):\n",
    "\n",
    "        self.v = v           # velocity m/s\n",
    "        self.theta = theta   # angle (degrees)\n",
    "        \n",
    "        self.theta_rad = math.radians(theta)\n",
    "        self.vx = v*math.cos(self.theta_rad)\n",
    "        self.vy = v*math.sin(self.theta_rad)\n",
    "\n",
    "        self.g = grav\n",
    "\n",
    "\n",
    "    def height(self):\n",
    "\n",
    "        # how high does this projectile go?\n",
    "        # vf_y^2 = 0 = vi_y^2 - 2 g h\n",
    "        h = self.vy**2/(2.0*self.g)\n",
    "\n",
    "        return h\n",
    "\n",
    "    def distance(self):\n",
    "        \n",
    "        # time of flight up\n",
    "        # vf_y = 0 = vi_y - g t\n",
    "        t = self.vy/self.g\n",
    "\n",
    "        # total time = up + down\n",
    "        t = 2.0*t\n",
    "\n",
    "        d = self.vx*t\n",
    "\n",
    "        return d\n",
    "\n",
    "    def __str__(self):\n",
    "        # a string representation for this class -- so we can print it\n",
    "        str = \" v: {} m/s\\n theta: {} (degrees)\\n height: {} m\\n distance: {} m\\n\".format(\n",
    "            self.v, self.theta, self.height(), self.distance())\n",
    "        \n",
    "        return str\n"
   ]
  },
  {
   "cell_type": "markdown",
   "metadata": {},
   "source": [
    "There is a lot going on there.\n",
    "\n",
    "When you instantiate a class, the `__init__` method is called.  Note that all method in a class always have \"`self`\" as the first argument -- this refers to the object that is invoking the method.\n",
    "\n",
    "Here we create a projectile."
   ]
  },
  {
   "cell_type": "code",
   "execution_count": 11,
   "metadata": {
    "collapsed": false
   },
   "outputs": [],
   "source": [
    "p1 = Projectile()"
   ]
  },
  {
   "cell_type": "markdown",
   "metadata": {},
   "source": [
    "The class has a special `__str__` function that tells python what it should do if you print an object."
   ]
  },
  {
   "cell_type": "code",
   "execution_count": 12,
   "metadata": {
    "collapsed": false
   },
   "outputs": [
    {
     "name": "stdout",
     "output_type": "stream",
     "text": [
      " v: 1.0 m/s\n",
      " theta: 45 (degrees)\n",
      " height: 0.025484199796126393 m\n",
      " distance: 0.1019367991845056 m\n",
      "\n"
     ]
    }
   ],
   "source": [
    "print(p1)"
   ]
  },
  {
   "cell_type": "markdown",
   "metadata": {},
   "source": [
    "We can put objects into a list:"
   ]
  },
  {
   "cell_type": "code",
   "execution_count": 13,
   "metadata": {
    "collapsed": false
   },
   "outputs": [
    {
     "name": "stdout",
     "output_type": "stream",
     "text": [
      "[<__main__.Projectile object at 0x105b04780>, <__main__.Projectile object at 0x105b0c6a0>, <__main__.Projectile object at 0x105b0c630>]\n"
     ]
    }
   ],
   "source": [
    "projectiles = []\n",
    "projectiles.append(p1)\n",
    "\n",
    "projectiles.append(Projectile(v = 100, theta = 70))\n",
    "projectiles.append(Projectile(v = 1000, theta = 30))\n",
    "\n",
    "print(projectiles)"
   ]
  },
  {
   "cell_type": "markdown",
   "metadata": {},
   "source": [
    "Then we can loop over these and use them, e.g., call the height method."
   ]
  },
  {
   "cell_type": "code",
   "execution_count": 14,
   "metadata": {
    "collapsed": false
   },
   "outputs": [
    {
     "name": "stdout",
     "output_type": "stream",
     "text": [
      "heights:\n",
      "0.025484199796126393\n",
      "450.0622943728282\n",
      "12742.099898063198\n"
     ]
    }
   ],
   "source": [
    "print(\"heights:\")\n",
    "for p in projectiles:\n",
    "    print(p.height())\n"
   ]
  },
  {
   "cell_type": "markdown",
   "metadata": {},
   "source": [
    "There are advanced features like inheritance -- a class can be built upon other classes and inherit from them.  We'll look at this as needed."
   ]
  }
 ],
 "metadata": {
  "anaconda-cloud": {},
  "kernelspec": {
   "display_name": "Python [Root]",
   "language": "python",
   "name": "Python [Root]"
  },
  "language_info": {
   "codemirror_mode": {
    "name": "ipython",
    "version": 3
   },
   "file_extension": ".py",
   "mimetype": "text/x-python",
   "name": "python",
   "nbconvert_exporter": "python",
   "pygments_lexer": "ipython3",
   "version": "3.5.2"
  }
 },
 "nbformat": 4,
 "nbformat_minor": 0
}
