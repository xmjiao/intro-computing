{
 "cells": [
  {
   "cell_type": "markdown",
   "metadata": {},
   "source": [
    "# Recursion vs. Iteration\n",
    "\n",
    "A recursive function is concptually clean."
   ]
  },
  {
   "cell_type": "code",
   "execution_count": 1,
   "metadata": {
    "collapsed": false,
    "scrolled": true
   },
   "outputs": [
    {
     "name": "stdout",
     "output_type": "stream",
     "text": [
      "120\n"
     ]
    }
   ],
   "source": [
    "def factorial(n):\n",
    "    if n < 2:\n",
    "        return 1\n",
    "    return n * factorial(n - 1)\n",
    "\n",
    "print(factorial(5))"
   ]
  },
  {
   "cell_type": "markdown",
   "metadata": {},
   "source": [
    "However, it is relatively expensive because of the creation and manipulation of stack frames. You can <a href=\"http://www.pythontutor.com/visualize.html#code=def%20factorial(n%29%3A%0A%20%20%20%20if%20n%20%3C%202%3A%0A%20%20%20%20%20%20%20%20return%201%0A%20%20%20%20return%20n%20*%20factorial(n%20-%201%29%0A%0Aprint(factorial(5%29%29&cumulative=false&curInstr=0&heapPrimitives=false&mode=display&origin=opt-frontend.js&py=3&rawInputLstJSON=%5B%5D&textReferences=false\" target=\"_blank\">visualize its execution here</a>. \n",
    "\n",
    "For better efficiency, we can convert the function to use iteration instead\n",
    "\n",
    "## Approach 1: Brute Force Using Stack\n",
    "We can use a stack data structure to simulate the stack frames of the recursive call. This is tedious and not particularly efficient."
   ]
  },
  {
   "cell_type": "code",
   "execution_count": 2,
   "metadata": {
    "collapsed": false
   },
   "outputs": [
    {
     "name": "stdout",
     "output_type": "stream",
     "text": [
      "120\n"
     ]
    }
   ],
   "source": [
    "def factorial_stack(n):\n",
    "    stack = []\n",
    "    stack.append(n)\n",
    "    state = 'Pre'\n",
    "\n",
    "    while True:\n",
    "        if state == 'Pre':\n",
    "            if n<2:\n",
    "                n = n - 1\n",
    "                stack.append(n)\n",
    "            else:\n",
    "                stack.append(2)\n",
    "                status = 'Post'\n",
    "        else:\n",
    "            result = stack.pop()\n",
    "            if not stack:\n",
    "                break\n",
    "            n = stack.pop()\n",
    "            stack.append(n * result)\n",
    "\n",
    "    return result\n",
    "\n",
    "print(factorial(5))"
   ]
  },
  {
   "cell_type": "markdown",
   "metadata": {},
   "source": [
    "## Approach 2: Convert into Tail Calls\n",
    "\n",
    "Step 1: Convert recursive calls into tail calls with return statement."
   ]
  },
  {
   "cell_type": "code",
   "execution_count": 3,
   "metadata": {
    "collapsed": false
   },
   "outputs": [
    {
     "name": "stdout",
     "output_type": "stream",
     "text": [
      "120\n"
     ]
    }
   ],
   "source": [
    "def factorial1a(n, acc=1):\n",
    "    if n < 2:\n",
    "        return 1 * acc\n",
    "    return factorial1a(n - 1, acc * n)\n",
    "    \n",
    "print(factorial1a(5))"
   ]
  },
  {
   "cell_type": "markdown",
   "metadata": {},
   "source": [
    "Step 2: Enclose function body in `while True:`"
   ]
  },
  {
   "cell_type": "code",
   "execution_count": 4,
   "metadata": {
    "collapsed": false
   },
   "outputs": [
    {
     "name": "stdout",
     "output_type": "stream",
     "text": [
      "120\n"
     ]
    }
   ],
   "source": [
    "def factorial1b(n, acc=1):\n",
    "    while True:\n",
    "        if n < 2:\n",
    "            return 1 * acc\n",
    "        return factorial1a(n - 1, acc * n)\n",
    "\n",
    "print(factorial1b(5))"
   ]
  },
  {
   "cell_type": "markdown",
   "metadata": {},
   "source": [
    "Step 3: Replace all recursive tail calls `f(x=x1, y=y1, ...)` with `x, y, ... = x1, y1, ...`. Be sure to update all arguments in the assignment."
   ]
  },
  {
   "cell_type": "code",
   "execution_count": 5,
   "metadata": {
    "collapsed": false
   },
   "outputs": [
    {
     "name": "stdout",
     "output_type": "stream",
     "text": [
      "120\n"
     ]
    }
   ],
   "source": [
    "def factorial1c(n, acc=1):\n",
    "    while True:\n",
    "        if n < 2:\n",
    "            return 1 * acc\n",
    "        n, acc = n - 1, acc * n\n",
    "\n",
    "print(factorial1c(5))"
   ]
  },
  {
   "cell_type": "markdown",
   "metadata": {},
   "source": [
    "Step 4: Clean up the code to make it more idiomatic."
   ]
  },
  {
   "cell_type": "code",
   "execution_count": 6,
   "metadata": {
    "collapsed": false
   },
   "outputs": [
    {
     "name": "stdout",
     "output_type": "stream",
     "text": [
      "120\n"
     ]
    }
   ],
   "source": [
    "def factorial1d(n):\n",
    "    acc=1\n",
    "    while n>1:\n",
    "        n, acc = n - 1, acc * n\n",
    "    return acc\n",
    "\n",
    "print(factorial1d(5))"
   ]
  },
  {
   "cell_type": "markdown",
   "metadata": {},
   "source": [
    "Now the stack size from is reduced from O(n) to O(1). You can <a href=\"http://www.pythontutor.com/visualize.html#code=def%20factorial1d(n%29%3A%0A%20%20%20%20acc%3D1%0A%20%20%20%20while%20n%3E1%3A%0A%20%20%20%20%20%20%20%20n,%20acc%20%3D%20n%20-%201,%20acc%20*%20n%0A%20%20%20%20return%20acc%0A%0Aprint(factorial1d(5%29%29&cumulative=false&curInstr=0&heapPrimitives=false&mode=display&origin=opt-frontend.js&py=3&rawInputLstJSON=%5B%5D&textReferences=false\" target=\"_blank\">visualize its execution here</a>."
   ]
  }
 ],
 "metadata": {
  "anaconda-cloud": {},
  "kernelspec": {
   "display_name": "Python [Root]",
   "language": "python",
   "name": "python3"
  },
  "language_info": {
   "codemirror_mode": {
    "name": "ipython",
    "version": 3
   },
   "file_extension": ".py",
   "mimetype": "text/x-python",
   "name": "python",
   "nbconvert_exporter": "python",
   "pygments_lexer": "ipython3",
   "version": "3.5.2"
  }
 },
 "nbformat": 4,
 "nbformat_minor": 0
}
