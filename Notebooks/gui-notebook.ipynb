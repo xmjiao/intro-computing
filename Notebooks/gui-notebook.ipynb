{
 "cells": [
  {
   "cell_type": "raw",
   "metadata": {},
   "source": [
    "Depending of the version of python, the tkinter module has a different name"
   ]
  },
  {
   "cell_type": "code",
   "execution_count": null,
   "metadata": {
    "collapsed": false
   },
   "outputs": [],
   "source": [
    "import sys\n",
    "if sys.version_info[0] < 3:\n",
    "    import Tkinter as Tk\n",
    "else:\n",
    "    import tkinter as Tk"
   ]
  },
  {
   "cell_type": "markdown",
   "metadata": {},
   "source": [
    "# Geometry Managers"
   ]
  },
  {
   "cell_type": "markdown",
   "metadata": {},
   "source": [
    "## Grid"
   ]
  },
  {
   "cell_type": "raw",
   "metadata": {},
   "source": [
    "see http://userpages.umbc.edu/~dhood2/courses/cmsc433/spring2010/?section=Notes&topic=Python&notes=94\n",
    "http://effbot.org/tkinterbook/grid.htm"
   ]
  },
  {
   "cell_type": "code",
   "execution_count": null,
   "metadata": {
    "collapsed": false
   },
   "outputs": [],
   "source": [
    "help(Tk.Label.grid)"
   ]
  },
  {
   "cell_type": "code",
   "execution_count": null,
   "metadata": {
    "collapsed": false
   },
   "outputs": [],
   "source": [
    "class GridExample:\n",
    "    def __init__(self, parent):\n",
    "        \n",
    "        self.parent = parent\n",
    "        \n",
    "        # first row\n",
    "        self.l1 = Tk.Label(self.parent, text=\"Entry 1: \")\n",
    "        self.e1 = Tk.Entry(self.parent)\n",
    "        \n",
    "        self.l1.grid(row=0, column=0)\n",
    "        self.e1.grid(row=0, column=1)\n",
    "        \n",
    "        # second row\n",
    "        self.l2 = Tk.Label(self.parent, text=\"Long Entry 2: \")\n",
    "        self.e2 = Tk.Entry(self.parent)\n",
    "        \n",
    "        self.l2.grid(row=2, column=0)\n",
    "        self.e2.grid(row=2, column=1)\n",
    "\n",
    "root = Tk.Tk()\n",
    "root.wm_title(\"my simple GUI\")\n",
    "\n",
    "gui_test = GridExample(root)\n",
    "\n",
    "root.mainloop()"
   ]
  },
  {
   "cell_type": "raw",
   "metadata": {},
   "source": [
    "Widgets are centered in their cells, but you can use sticky and N, S, E, W directions to say where to anchor it"
   ]
  },
  {
   "cell_type": "code",
   "execution_count": null,
   "metadata": {
    "collapsed": false
   },
   "outputs": [],
   "source": [
    "class GridExample:\n",
    "    def __init__(self, parent):\n",
    "        \n",
    "        self.parent = parent\n",
    "        \n",
    "        # first row\n",
    "        self.l1 = Tk.Label(self.parent, text=\"Entry 1: \")\n",
    "        self.e1 = Tk.Entry(self.parent)\n",
    "        \n",
    "        self.l1.grid(row=0, column=0, sticky=Tk.E)\n",
    "        self.e1.grid(row=0, column=1)\n",
    "        \n",
    "        # second row\n",
    "        self.l2 = Tk.Label(self.parent, text=\"Long Entry 2: \")\n",
    "        self.e2 = Tk.Entry(self.parent)\n",
    "        \n",
    "        self.l2.grid(row=2, column=0, sticky=Tk.E)\n",
    "        self.e2.grid(row=2, column=1)\n",
    "\n",
    "root = Tk.Tk()\n",
    "root.wm_title(\"my simple GUI\")\n",
    "\n",
    "gui_test = GridExample(root)\n",
    "\n",
    "root.mainloop()   "
   ]
  },
  {
   "cell_type": "markdown",
   "metadata": {},
   "source": [
    "## Pack"
   ]
  },
  {
   "cell_type": "code",
   "execution_count": null,
   "metadata": {
    "collapsed": false
   },
   "outputs": [],
   "source": [
    "help(Tk.Button.pack)"
   ]
  },
  {
   "cell_type": "code",
   "execution_count": null,
   "metadata": {
    "collapsed": false
   },
   "outputs": [],
   "source": [
    "class PackExample:\n",
    "    def __init__(self, parent):\n",
    "        \n",
    "        self.parent = parent\n",
    "        \n",
    "        # first row\n",
    "        self.l1 = Tk.Label(self.parent, text=\"Entry 1: \")\n",
    "        self.e1 = Tk.Entry(self.parent)\n",
    "        \n",
    "        self.l2 = Tk.Label(self.parent, text=\"Long Entry 2: \")\n",
    "        self.e2 = Tk.Entry(self.parent)\n",
    "        \n",
    "        self.l1.pack()\n",
    "        self.e1.pack()\n",
    "        self.l2.pack()\n",
    "        self.e2.pack()\n",
    "\n",
    "root = Tk.Tk()\n",
    "root.wm_title(\"my simple GUI\")\n",
    "\n",
    "gui_test = PackExample(root)\n",
    "\n",
    "root.mainloop()   "
   ]
  },
  {
   "cell_type": "raw",
   "metadata": {},
   "source": [
    "We can use side to specify where the widget lives.  Notice how things behave when you expand the widget"
   ]
  },
  {
   "cell_type": "code",
   "execution_count": null,
   "metadata": {
    "collapsed": false
   },
   "outputs": [],
   "source": [
    "class PackExample:\n",
    "    def __init__(self, parent):\n",
    "        \n",
    "        self.parent = parent\n",
    "        \n",
    "        # first row\n",
    "        self.l1 = Tk.Label(self.parent, text=\"Entry 1: \")\n",
    "        self.e1 = Tk.Entry(self.parent)\n",
    "        \n",
    "        self.l2 = Tk.Label(self.parent, text=\"Long Entry 2: \")\n",
    "        self.e2 = Tk.Entry(self.parent)\n",
    "        \n",
    "        self.l1.pack(side=Tk.LEFT)\n",
    "        self.e1.pack(side=Tk.LEFT)\n",
    "        self.l2.pack(side=Tk.RIGHT)\n",
    "        self.e2.pack(side=Tk.RIGHT)\n",
    "\n",
    "root = Tk.Tk()\n",
    "root.wm_title(\"my simple GUI\")\n",
    "\n",
    "gui_test = PackExample(root)\n",
    "\n",
    "root.mainloop()   "
   ]
  },
  {
   "cell_type": "markdown",
   "metadata": {},
   "source": [
    "# A simple GUI"
   ]
  },
  {
   "cell_type": "raw",
   "metadata": {},
   "source": [
    "Here we create a very simple GUI that allows you to enter a string, and outputs the value when you click \"show\".\n",
    "\n",
    "Notice that we create the GUI as a class -- this makes it easy to deal with all the interactions, since the different\n",
    "widget objects and methods they expose (e.g. to get data from the field) are all together in the object's namespace.\n",
    "\n",
    "Some people have the class itself inherit from Tk.Frame, see, e.g., http://stackoverflow.com/questions/17466561/best-way-to-structure-a-tkinter-application"
   ]
  },
  {
   "cell_type": "code",
   "execution_count": null,
   "metadata": {
    "collapsed": false
   },
   "outputs": [],
   "source": [
    "class MyGUI:\n",
    "    def __init__(self, parent):\n",
    "        self.parent = parent\n",
    "        \n",
    "        self.frame_a = Tk.Frame(self.parent)\n",
    "        self.frame_a.pack(fill=Tk.BOTH, expand=1)                                                                        \n",
    "        \n",
    "        self.label_a = Tk.Label(self.frame_a, text=\"enter some text here: \")\n",
    "        self.label_a.grid(row=0, column=0, sticky=Tk.W)\n",
    "        \n",
    "        self.label_str = Tk.StringVar()\n",
    "        \n",
    "        self.field_a = Tk.Entry(self.frame_a, textvariable=self.label_str)\n",
    "        self.field_a.grid(row=0, column=1, sticky=Tk.W)\n",
    "        \n",
    "        self.frame_buttons = Tk.Frame(self.parent)\n",
    "        self.frame_buttons.pack(fill=Tk.BOTH, expand=1)\n",
    "\n",
    "        self.ok_button = Tk.Button(self.frame_buttons, text=\"show\", command=self._show)\n",
    "        self.ok_button.pack(side=Tk.RIGHT, padx=5, pady=5)\n",
    "        \n",
    "    def _show(self):\n",
    "        str = self.field_a.get()\n",
    "        print(\"you entered {}\".format(str))"
   ]
  },
  {
   "cell_type": "code",
   "execution_count": null,
   "metadata": {
    "collapsed": false
   },
   "outputs": [],
   "source": [
    "root = Tk.Tk()\n",
    "root.wm_title(\"my simple GUI\")\n",
    "\n",
    "gui_test = MyGUI(root)\n",
    "\n",
    "root.mainloop()"
   ]
  },
  {
   "cell_type": "markdown",
   "metadata": {},
   "source": [
    "# Windows Popping Out Windows"
   ]
  },
  {
   "cell_type": "raw",
   "metadata": {},
   "source": [
    "Now we can try to make it more complex -- let's have the show button pop up a new window.  We'll define a new class to manage that.  It will take the parent widget and also the MyGUI object itself, so we can access that data"
   ]
  },
  {
   "cell_type": "code",
   "execution_count": null,
   "metadata": {
    "collapsed": false
   },
   "outputs": [],
   "source": [
    "class Response:\n",
    "    def __init__(self, parent, main_obj):\n",
    "        self.parent = parent\n",
    "        self.main_obj = main_obj\n",
    "        \n",
    "        self.frame = Tk.Frame(self.parent)\n",
    "        self.frame.pack(fill=Tk.BOTH, expand=1)\n",
    "        \n",
    "        str = self.main_obj.field_a.get()\n",
    "        self.label = Tk.Label(self.frame, text=\"You entered {}\".format(str))\n",
    "        self.label.grid(row=0, column=0, sticky=Tk.W)\n",
    "\n",
    "        self.frame_buttons = Tk.Frame(self.parent)\n",
    "        self.frame_buttons.pack(fill=Tk.BOTH, expand=1)\n",
    "        \n",
    "        self.ok_button = Tk.Button(self.frame_buttons, text=\"Ok\", command=self._ok)\n",
    "        self.ok_button.pack(side=Tk.RIGHT, padx=5, pady=5)\n",
    "        \n",
    "    def _ok(self):\n",
    "        self.parent.destroy()"
   ]
  },
  {
   "cell_type": "raw",
   "metadata": {},
   "source": [
    "we'll need to modify the show() function in our previous class"
   ]
  },
  {
   "cell_type": "code",
   "execution_count": null,
   "metadata": {
    "collapsed": false
   },
   "outputs": [],
   "source": [
    "class MyGUI2:\n",
    "    def __init__(self, parent):\n",
    "        self.parent = parent\n",
    "        \n",
    "        self.frame_a = Tk.Frame(self.parent)\n",
    "        self.frame_a.pack(fill=Tk.BOTH, expand=1)                                                                        \n",
    "        \n",
    "        self.label_a = Tk.Label(self.frame_a, text=\"enter some text here: \")\n",
    "        self.label_a.grid(row=0, column=0, sticky=Tk.W)\n",
    "        \n",
    "        self.label_str = Tk.StringVar()\n",
    "        \n",
    "        self.field_a = Tk.Entry(self.frame_a, textvariable=self.label_str)\n",
    "        self.field_a.grid(row=0, column=1, sticky=Tk.W)\n",
    "        \n",
    "        self.frame_buttons = Tk.Frame(self.parent)\n",
    "        self.frame_buttons.pack(fill=Tk.BOTH, expand=1)\n",
    "\n",
    "        self.show_button = Tk.Button(self.frame_buttons, text=\"show\", command=self._show)\n",
    "        self.show_button.pack(side=Tk.RIGHT, padx=5, pady=5)\n",
    "        \n",
    "    def _show(self):\n",
    "        self.new_window = Tk.Toplevel(self.parent)\n",
    "        self.show = Response(self.new_window, self)"
   ]
  },
  {
   "cell_type": "code",
   "execution_count": null,
   "metadata": {
    "collapsed": false
   },
   "outputs": [],
   "source": [
    "root = Tk.Tk()\n",
    "root.wm_title(\"my simple GUI\")\n",
    "\n",
    "gui_test = MyGUI2(root)\n",
    "\n",
    "root.mainloop()"
   ]
  },
  {
   "cell_type": "markdown",
   "metadata": {},
   "source": [
    "## Message Boxes"
   ]
  },
  {
   "cell_type": "raw",
   "metadata": {},
   "source": [
    "A messagebox is a useful way to give feedback."
   ]
  },
  {
   "cell_type": "code",
   "execution_count": null,
   "metadata": {
    "collapsed": false
   },
   "outputs": [],
   "source": [
    "from tkinter import messagebox\n",
    "\n",
    "class MyApp:\n",
    "    def __init__(self, parent):\n",
    "        self.parent = parent\n",
    "        \n",
    "        self.button = Tk.Button(self.parent, text=\"press me\", command=self.doit)\n",
    "        self.button.pack()\n",
    "        \n",
    "    def doit(self):\n",
    "        messagebox.showwarning(\"Warning\", \"you did something bad!\")    \n",
    "                \n",
    "root = Tk.Tk()\n",
    "root.wm_title(\"main application\")\n",
    "\n",
    "my_app = MyApp(root)\n",
    "\n",
    "root.mainloop()"
   ]
  },
  {
   "cell_type": "markdown",
   "metadata": {},
   "source": [
    "# Styling"
   ]
  },
  {
   "cell_type": "raw",
   "metadata": {},
   "source": [
    "Sometimes we want to make our widgets look more native.  Tkinter supports this via ttk."
   ]
  },
  {
   "cell_type": "code",
   "execution_count": null,
   "metadata": {
    "collapsed": false
   },
   "outputs": [],
   "source": [
    "from tkinter import ttk, filedialog\n",
    "\n",
    "class MyApp:\n",
    "    def __init__(self, parent):\n",
    "        self.parent = parent\n",
    "        \n",
    "        self.style = ttk.Style()\n",
    "        self.style.theme_use(\"default\")\n",
    "        \n",
    "        self.button1 = ttk.Button(self.parent, text=\"button 1\", command=self.file)\n",
    "        self.button1.pack()\n",
    "        self.button2 = ttk.Button(self.parent, text=\"button 2\")\n",
    "        self.button2.pack()\n",
    "        self.button3 = ttk.Button(self.parent, text=\"button 3\")\n",
    "        self.button3.pack()        \n",
    "        \n",
    "    def file(self):\n",
    "        self.file_opts = {}\n",
    "        return filedialog.askopenfile(mode='r', **self.file_opts)\n",
    "    \n",
    "root = Tk.Tk()\n",
    "root.wm_title(\"main application\")\n",
    "\n",
    "my_app = MyApp(root)\n",
    "\n",
    "root.mainloop()"
   ]
  },
  {
   "cell_type": "code",
   "execution_count": null,
   "metadata": {
    "collapsed": false
   },
   "outputs": [],
   "source": [
    "class MyApp:\n",
    "    def __init__(self, parent):\n",
    "        self.parent = parent\n",
    "        \n",
    "        self.button1 = Tk.Button(self.parent, text=\"button 1\")\n",
    "        self.button1.pack()\n",
    "        self.button2 = Tk.Button(self.parent, text=\"button 2\")\n",
    "        self.button2.pack()\n",
    "        self.button3 = Tk.Button(self.parent, text=\"button 3\")\n",
    "        self.button3.pack()        \n",
    "                \n",
    "root = Tk.Tk()\n",
    "root.wm_title(\"main application\")\n",
    "\n",
    "my_app = MyApp(root)\n",
    "\n",
    "root.mainloop()"
   ]
  }
 ],
 "metadata": {
  "anaconda-cloud": {},
  "kernelspec": {
   "display_name": "Python [Root]",
   "language": "python",
   "name": "python3"
  },
  "language_info": {
   "codemirror_mode": {
    "name": "ipython",
    "version": 3
   },
   "file_extension": ".py",
   "mimetype": "text/x-python",
   "name": "python",
   "nbconvert_exporter": "python",
   "pygments_lexer": "ipython3",
   "version": "3.5.2"
  }
 },
 "nbformat": 4,
 "nbformat_minor": 0
}
